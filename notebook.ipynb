{
 "cells": [
  {
   "cell_type": "code",
   "execution_count": 1,
   "id": "160e137e-1094-4ffd-999b-5fe3b0a050f2",
   "metadata": {},
   "outputs": [],
   "source": [
    "# Import des librairies utilisées\n",
    "import polars as pl\n",
    "from pymongo import MongoClient"
   ]
  },
  {
   "cell_type": "markdown",
   "id": "520ab0db-445f-49f8-b62d-4fdc840e38d6",
   "metadata": {},
   "source": [
    "---\n",
    "**Récupération des données à partir d'URLs**\n",
    "-\n",
    "---"
   ]
  },
  {
   "cell_type": "code",
   "execution_count": 4,
   "id": "77959ac2-c78c-4d09-8697-bacbc242c800",
   "metadata": {},
   "outputs": [
    {
     "name": "stdout",
     "output_type": "stream",
     "text": [
      "shape: (66_031, 75)\n",
      "┌───────────┬───────────┬───────────┬───────────┬───┬───────────┬───────────┬───────────┬──────────┐\n",
      "│ id        ┆ listing_u ┆ scrape_id ┆ last_scra ┆ … ┆ calculate ┆ calculate ┆ calculate ┆ reviews_ │\n",
      "│ ---       ┆ rl        ┆ ---       ┆ ped       ┆   ┆ d_host_li ┆ d_host_li ┆ d_host_li ┆ per_mont │\n",
      "│ i64       ┆ ---       ┆ i64       ┆ ---       ┆   ┆ stings_co ┆ stings_co ┆ stings_co ┆ h        │\n",
      "│           ┆ str       ┆           ┆ str       ┆   ┆ unt…      ┆ unt…      ┆ unt…      ┆ ---      │\n",
      "│           ┆           ┆           ┆           ┆   ┆ ---       ┆ ---       ┆ ---       ┆ f64      │\n",
      "│           ┆           ┆           ┆           ┆   ┆ i64       ┆ i64       ┆ i64       ┆          │\n",
      "╞═══════════╪═══════════╪═══════════╪═══════════╪═══╪═══════════╪═══════════╪═══════════╪══════════╡\n",
      "│ 80260     ┆ https://w ┆ 202406101 ┆ 2024-06-1 ┆ … ┆ 1         ┆ 0         ┆ 0         ┆ 1.29     │\n",
      "│           ┆ ww.airbnb ┆ 95007     ┆ 3         ┆   ┆           ┆           ┆           ┆          │\n",
      "│           ┆ .com/room ┆           ┆           ┆   ┆           ┆           ┆           ┆          │\n",
      "│           ┆ s/8…      ┆           ┆           ┆   ┆           ┆           ┆           ┆          │\n",
      "│ 3109      ┆ https://w ┆ 202406101 ┆ 2024-06-1 ┆ … ┆ 1         ┆ 0         ┆ 0         ┆ 0.05     │\n",
      "│           ┆ ww.airbnb ┆ 95007     ┆ 2         ┆   ┆           ┆           ┆           ┆          │\n",
      "│           ┆ .com/room ┆           ┆           ┆   ┆           ┆           ┆           ┆          │\n",
      "│           ┆ s/3…      ┆           ┆           ┆   ┆           ┆           ┆           ┆          │\n",
      "│ 80301     ┆ https://w ┆ 202406101 ┆ 2024-06-1 ┆ … ┆ 1         ┆ 1         ┆ 0         ┆ 0.27     │\n",
      "│           ┆ ww.airbnb ┆ 95007     ┆ 3         ┆   ┆           ┆           ┆           ┆          │\n",
      "│           ┆ .com/room ┆           ┆           ┆   ┆           ┆           ┆           ┆          │\n",
      "│           ┆ s/8…      ┆           ┆           ┆   ┆           ┆           ┆           ┆          │\n",
      "│ 5396      ┆ https://w ┆ 202406101 ┆ 2024-06-1 ┆ … ┆ 1         ┆ 0         ┆ 0         ┆ 2.21     │\n",
      "│           ┆ ww.airbnb ┆ 95007     ┆ 3         ┆   ┆           ┆           ┆           ┆          │\n",
      "│           ┆ .com/room ┆           ┆           ┆   ┆           ┆           ┆           ┆          │\n",
      "│           ┆ s/5…      ┆           ┆           ┆   ┆           ┆           ┆           ┆          │\n",
      "│ 7397      ┆ https://w ┆ 202406101 ┆ 2024-06-1 ┆ … ┆ 3         ┆ 0         ┆ 0         ┆ 2.21     │\n",
      "│           ┆ ww.airbnb ┆ 95007     ┆ 3         ┆   ┆           ┆           ┆           ┆          │\n",
      "│           ┆ .com/room ┆           ┆           ┆   ┆           ┆           ┆           ┆          │\n",
      "│           ┆ s/7…      ┆           ┆           ┆   ┆           ┆           ┆           ┆          │\n",
      "│ …         ┆ …         ┆ …         ┆ …         ┆ … ┆ …         ┆ …         ┆ …         ┆ …        │\n",
      "│ 117461601 ┆ https://w ┆ 202406101 ┆ 2024-06-1 ┆ … ┆ 1         ┆ 0         ┆ 0         ┆ null     │\n",
      "│ 101997163 ┆ ww.airbnb ┆ 95007     ┆ 2         ┆   ┆           ┆           ┆           ┆          │\n",
      "│ 5         ┆ .com/room ┆           ┆           ┆   ┆           ┆           ┆           ┆          │\n",
      "│           ┆ s/1…      ┆           ┆           ┆   ┆           ┆           ┆           ┆          │\n",
      "│ 117464324 ┆ https://w ┆ 202406101 ┆ 2024-06-1 ┆ … ┆ 23        ┆ 0         ┆ 0         ┆ null     │\n",
      "│ 969596348 ┆ ww.airbnb ┆ 95007     ┆ 2         ┆   ┆           ┆           ┆           ┆          │\n",
      "│ 4         ┆ .com/room ┆           ┆           ┆   ┆           ┆           ┆           ┆          │\n",
      "│           ┆ s/1…      ┆           ┆           ┆   ┆           ┆           ┆           ┆          │\n",
      "│ 117464887 ┆ https://w ┆ 202406101 ┆ 2024-06-1 ┆ … ┆ 1         ┆ 0         ┆ 0         ┆ null     │\n",
      "│ 273291936 ┆ ww.airbnb ┆ 95007     ┆ 1         ┆   ┆           ┆           ┆           ┆          │\n",
      "│ 3         ┆ .com/room ┆           ┆           ┆   ┆           ┆           ┆           ┆          │\n",
      "│           ┆ s/1…      ┆           ┆           ┆   ┆           ┆           ┆           ┆          │\n",
      "│ 117466070 ┆ https://w ┆ 202406101 ┆ 2024-06-1 ┆ … ┆ 3         ┆ 0         ┆ 0         ┆ null     │\n",
      "│ 840744754 ┆ ww.airbnb ┆ 95007     ┆ 1         ┆   ┆           ┆           ┆           ┆          │\n",
      "│ 8         ┆ .com/room ┆           ┆           ┆   ┆           ┆           ┆           ┆          │\n",
      "│           ┆ s/1…      ┆           ┆           ┆   ┆           ┆           ┆           ┆          │\n",
      "│ 117466090 ┆ https://w ┆ 202406101 ┆ 2024-06-1 ┆ … ┆ 23        ┆ 0         ┆ 0         ┆ null     │\n",
      "│ 768471161 ┆ ww.airbnb ┆ 95007     ┆ 2         ┆   ┆           ┆           ┆           ┆          │\n",
      "│ 6         ┆ .com/room ┆           ┆           ┆   ┆           ┆           ┆           ┆          │\n",
      "│           ┆ s/1…      ┆           ┆           ┆   ┆           ┆           ┆           ┆          │\n",
      "└───────────┴───────────┴───────────┴───────────┴───┴───────────┴───────────┴───────────┴──────────┘\n"
     ]
    }
   ],
   "source": [
    "data_url = 'https://s3.eu-west-1.amazonaws.com/course.oc-static.com/projects/922_Data+Engineer/922_P7/listings_Paris+(1).csv'\n",
    "df = pl.read_csv(data_url)\n",
    "df_paris = df.filter(pl.col(\"host_location\") == \"Paris, France\")\n",
    "print(df_paris)"
   ]
  },
  {
   "cell_type": "markdown",
   "id": "8bf142df-d9b9-43b7-894d-7c9e52aef4c0",
   "metadata": {},
   "source": [
    "---\n",
    "**Création de la base de données**\n",
    "-\n",
    "---"
   ]
  },
  {
   "cell_type": "code",
   "execution_count": 7,
   "id": "6d53cfd6-a697-418b-9909-dd048715d4f5",
   "metadata": {},
   "outputs": [],
   "source": [
    "# Connexion à MongoDB\n",
    "client = MongoClient(\"mongodb://localhost:27017/\")\n",
    "db = client[\"mydb\"]\n",
    "collection = db[\"annonces\"]"
   ]
  },
  {
   "cell_type": "markdown",
   "id": "6d416404-55f9-456c-abd5-0320ea86cbb3",
   "metadata": {},
   "source": [
    "---\n",
    "**Import des données dans la base**\n",
    "-\n",
    "---"
   ]
  },
  {
   "cell_type": "code",
   "execution_count": 10,
   "id": "688cb317-2f9f-4e0d-88d3-b27c827a9f0c",
   "metadata": {},
   "outputs": [
    {
     "name": "stdout",
     "output_type": "stream",
     "text": [
      "66031 documents insérés\n"
     ]
    }
   ],
   "source": [
    "data = df_paris.to_dicts()\n",
    "collection.insert_many(data)\n",
    "print(f\"{len(data)} documents insérés\")"
   ]
  },
  {
   "attachments": {},
   "cell_type": "markdown",
   "id": "47835479-6f42-4ed9-9a7b-bb9845a5dbe4",
   "metadata": {},
   "source": [
    "---\n",
    "Q1: Nombre de documents\n",
    "-\n",
    "---"
   ]
  },
  {
   "cell_type": "code",
   "execution_count": 12,
   "id": "64110218-cd64-433a-adc2-2c362ac1ae06",
   "metadata": {},
   "outputs": [
    {
     "name": "stdout",
     "output_type": "stream",
     "text": [
      "66031\n"
     ]
    }
   ],
   "source": [
    "print(collection.count_documents({}))"
   ]
  },
  {
   "attachments": {},
   "cell_type": "markdown",
   "id": "bdb2fbcb-6efc-4b90-bd7d-22b5005a587e",
   "metadata": {},
   "source": [
    "---\n",
    "Q2: Nombre de logements ayant des disponibilités\n",
    "-\n",
    "---"
   ]
  },
  {
   "cell_type": "code",
   "execution_count": 14,
   "id": "449f5756-68c0-4a36-bcb2-7a210650e2ea",
   "metadata": {},
   "outputs": [
    {
     "name": "stdout",
     "output_type": "stream",
     "text": [
      "[None, 'f', 't']\n",
      "62581\n"
     ]
    }
   ],
   "source": [
    "values = collection.distinct('has_availability')\n",
    "print(values)\n",
    "print(collection.count_documents({'has_availability': 't'}))"
   ]
  },
  {
   "attachments": {},
   "cell_type": "markdown",
   "id": "77027fd9-271e-4e70-9ceb-609fe8702336",
   "metadata": {},
   "source": [
    "---\n",
    "Q3: Nombre d’annonces par type de location\n",
    "-\n",
    "---"
   ]
  },
  {
   "cell_type": "code",
   "execution_count": 17,
   "id": "955a1e5d-384c-4935-96dc-8267407294cc",
   "metadata": {},
   "outputs": [
    {
     "name": "stdout",
     "output_type": "stream",
     "text": [
      "Entire home/apt: 59201 annonces\n",
      "Private room: 6067 annonces\n",
      "Hotel room: 513 annonces\n",
      "Shared room: 250 annonces\n"
     ]
    }
   ],
   "source": [
    "# Pipeline d'agrégation\n",
    "pipeline = [\n",
    "    {\"$group\": {\"_id\": \"$room_type\", \"nombre_annonces\": {\"$sum\": 1}}},\n",
    "    {\"$sort\": {\"nombre_annonces\": -1}}  # tri décroissant\n",
    "]\n",
    "\n",
    "result = collection.aggregate(pipeline)\n",
    "\n",
    "for doc in result:\n",
    "    print(f\"{doc['_id']}: {doc['nombre_annonces']} annonces\")"
   ]
  },
  {
   "cell_type": "markdown",
   "id": "98b33adb-8cb1-472b-b254-24bf7f117a95",
   "metadata": {},
   "source": [
    "---\n",
    "Q4: Nombre d’annonces par type de location\n",
    "-\n",
    "---"
   ]
  },
  {
   "cell_type": "code",
   "execution_count": 19,
   "id": "386f24fd-a245-4405-bc26-fef1ddc7291f",
   "metadata": {},
   "outputs": [
    {
     "name": "stdout",
     "output_type": "stream",
     "text": [
      "Entire rental unit: 55483 annonces\n",
      "Private room in rental unit: 4252 annonces\n",
      "Entire condo: 1862 annonces\n",
      "Entire loft: 816 annonces\n",
      "Room in boutique hotel: 789 annonces\n",
      "Entire home: 478 annonces\n",
      "Private room in bed and breakfast: 430 annonces\n",
      "Room in hotel: 389 annonces\n",
      "Private room in condo: 268 annonces\n",
      "Entire townhouse: 215 annonces\n",
      "Shared room in rental unit: 179 annonces\n",
      "Entire serviced apartment: 177 annonces\n",
      "Private room in home: 94 annonces\n",
      "Private room in townhouse: 76 annonces\n",
      "Private room in loft: 68 annonces\n",
      "Private room in hostel: 44 annonces\n",
      "Shared room in hostel: 39 annonces\n",
      "Entire place: 32 annonces\n",
      "Private room: 31 annonces\n",
      "Private room in guesthouse: 29 annonces\n",
      "Private room in guest suite: 29 annonces\n",
      "Room in aparthotel: 27 annonces\n",
      "Private room in casa particular: 23 annonces\n",
      "Tiny home: 21 annonces\n",
      "Entire guesthouse: 19 annonces\n",
      "Entire vacation home: 18 annonces\n",
      "Entire guest suite: 17 annonces\n",
      "Room in serviced apartment: 13 annonces\n",
      "Entire villa: 12 annonces\n",
      "Private room in serviced apartment: 12 annonces\n",
      "Shared room in condo: 9 annonces\n",
      "Room in bed and breakfast: 8 annonces\n",
      "Boat: 7 annonces\n",
      "Entire home/apt: 7 annonces\n",
      "Private room in tiny home: 5 annonces\n",
      "Shared room in bed and breakfast: 4 annonces\n",
      "Shared room in loft: 4 annonces\n",
      "Houseboat: 4 annonces\n",
      "Shared room in boutique hotel: 3 annonces\n",
      "Room in hostel: 3 annonces\n",
      "Camper/RV: 3 annonces\n",
      "Shared room in townhouse: 3 annonces\n",
      "Private room in vacation home: 3 annonces\n",
      "Casa particular: 2 annonces\n",
      "Shared room in tiny home: 2 annonces\n",
      "Room in rental unit: 2 annonces\n",
      "Shared room in home: 2 annonces\n",
      "Shared room in guesthouse: 2 annonces\n",
      "Private room in boat: 2 annonces\n",
      "Entire bungalow: 1 annonces\n",
      "Private room in cave: 1 annonces\n",
      "Shared room in farm stay: 1 annonces\n",
      "Tower: 1 annonces\n",
      "Private room in villa: 1 annonces\n",
      "Cave: 1 annonces\n",
      "Private room in earthen home: 1 annonces\n",
      "Floor: 1 annonces\n",
      "Shipping container: 1 annonces\n",
      "Shared room in guest suite: 1 annonces\n",
      "Shared room in cabin: 1 annonces\n",
      "Earthen home: 1 annonces\n",
      "Entire bed and breakfast: 1 annonces\n",
      "Religious building: 1 annonces\n"
     ]
    }
   ],
   "source": [
    "# Pipeline d'agrégation\n",
    "pipeline = [\n",
    "    {\"$group\": {\"_id\": \"$property_type\", \"nombre_annonces\": {\"$sum\": 1}}},\n",
    "    {\"$sort\": {\"nombre_annonces\": -1}}  # tri décroissant\n",
    "]\n",
    "\n",
    "result = collection.aggregate(pipeline)\n",
    "\n",
    "for doc in result:\n",
    "    print(f\"{doc['_id']}: {doc['nombre_annonces']} annonces\")"
   ]
  },
  {
   "attachments": {},
   "cell_type": "markdown",
   "id": "9eacaa1d-cc25-49ec-b566-ea924ed30023",
   "metadata": {},
   "source": [
    "---\n",
    "Q5: Les 5 annonces de location avec le plus d’évaluations et leurs nombre\n",
    "-\n",
    "---"
   ]
  },
  {
   "cell_type": "code",
   "execution_count": 21,
   "id": "08e0b642-fda0-48e7-97de-c248d43f85ee",
   "metadata": {},
   "outputs": [
    {
     "name": "stdout",
     "output_type": "stream",
     "text": [
      "Sweet & cosy room next to Canal Saint Martin ❤️: 3067 reviews\n",
      "Double/Twin Room, close to Opera and the Louvre with breakfast included: 2620 reviews\n",
      "Bed in Dorm of 8 Beds \"The Big One\" in Paris: 2294 reviews\n",
      "Comfortable bed in shared rooms of 8 in Paris 12e: 2105 reviews\n",
      "Hotel Boronali *** - Double room in Montmartre: 1716 reviews\n"
     ]
    }
   ],
   "source": [
    "top5 = collection.find(\n",
    "    {},  # pas de filtre, on prend toutes les annonces\n",
    "    {\"name\": 1, \"number_of_reviews\": 1, \"_id\": 0}  # projection: colonnes à afficher\n",
    "    ).sort(\"number_of_reviews\", -1).limit(5)\n",
    "\n",
    "for doc in top5:\n",
    "    print(f\"{doc['name']}: {doc['number_of_reviews']} reviews\")"
   ]
  },
  {
   "attachments": {},
   "cell_type": "markdown",
   "id": "d54b369d-868d-4b5f-83c2-dbb5f2e90b22",
   "metadata": {},
   "source": [
    "---\n",
    "Q6: Nombre total d’hôtes différents\n",
    "-\n",
    "---"
   ]
  },
  {
   "cell_type": "code",
   "execution_count": 28,
   "id": "06036104-abf8-4206-94d9-75107710e535",
   "metadata": {},
   "outputs": [
    {
     "name": "stdout",
     "output_type": "stream",
     "text": [
      "{'total_hosts': 50772}\n"
     ]
    }
   ],
   "source": [
    "# Pipeline d'agrégation\n",
    "pipeline = [\n",
    "    {\"$group\": {\"_id\": \"$host_id\"}},\n",
    "    {\"$count\": \"total_hosts\"}  # tri décroissant\n",
    "]\n",
    "result = collection.aggregate(pipeline)\n",
    "for doc in result:\n",
    "    print(doc)"
   ]
  },
  {
   "attachments": {},
   "cell_type": "markdown",
   "id": "2f025145-13c2-4c08-9dd5-da76d739e26a",
   "metadata": {},
   "source": [
    "---\n",
    "Q7: Nombre de locations réservables instantanément et la proportion\n",
    "-\n",
    "---"
   ]
  },
  {
   "cell_type": "code",
   "execution_count": 31,
   "id": "882bdd26-415d-49fe-abc8-77800b1a4254",
   "metadata": {},
   "outputs": [
    {
     "name": "stdout",
     "output_type": "stream",
     "text": [
      "{'total': 66031, 'instant': 12598, 'proportion': 0.190789174781542}\n"
     ]
    }
   ],
   "source": [
    "# Pipeline d'agrégation\n",
    "pipeline = [\n",
    "    {\n",
    "        \"$group\": {\n",
    "            \"_id\": None,\n",
    "            \"total\": {\"$sum\": 1},\n",
    "            \"instant\": {\"$sum\": {\"$cond\": [{\"$eq\": [\"$instant_bookable\", \"t\"]}, 1, 0]}}\n",
    "        }\n",
    "    },\n",
    "    {\n",
    "        \"$project\": {\n",
    "            \"_id\": 0,\n",
    "            \"total\": 1,\n",
    "            \"instant\": 1,\n",
    "            \"proportion\": {\"$divide\": [\"$instant\", \"$total\"]}\n",
    "        }\n",
    "    }\n",
    "]\n",
    "result = collection.aggregate(pipeline)\n",
    "for doc in result:\n",
    "    print(doc)"
   ]
  },
  {
   "attachments": {},
   "cell_type": "markdown",
   "id": "0cf1674c-c52b-41e9-995a-fe7bf8963f14",
   "metadata": {},
   "source": [
    "---\n",
    "Q8: Nombre d’hôtes ayant plus de 100 annonces sur les plateformes, leurs noms et la proportion\n",
    "-\n",
    "---"
   ]
  },
  {
   "cell_type": "code",
   "execution_count": 34,
   "id": "9d908c7c-0cd1-487a-a150-d593ef0ae97f",
   "metadata": {},
   "outputs": [
    {
     "name": "stdout",
     "output_type": "stream",
     "text": [
      "Total d'annonces pour hôtes >100 annonces : 3279\n",
      "\n",
      "Liste des hôtes avec proportion respective :\n",
      "\tBlueground : 730 annonces, proportion : 22.26%\n",
      "\tPierre De WeHost : 426 annonces, proportion : 12.99%\n",
      "\tCédric De ClickYourFlat : 274 annonces, proportion : 8.36%\n",
      "\tLudovic : 211 annonces, proportion : 6.43%\n",
      "\tDavid Et Warren : 210 annonces, proportion : 6.40%\n",
      "\tWelkeys : 170 annonces, proportion : 5.18%\n",
      "\tStudioprestige : 154 annonces, proportion : 4.70%\n",
      "\tSweet Inn : 149 annonces, proportion : 4.54%\n",
      "\tIntoParis : 145 annonces, proportion : 4.42%\n",
      "\tParisian Home : 132 annonces, proportion : 4.03%\n",
      "\tBarnes : 122 annonces, proportion : 3.72%\n",
      "\tJérémy : 120 annonces, proportion : 3.66%\n",
      "\tMichael & Johanna : 119 annonces, proportion : 3.63%\n",
      "\tGiacomo : 111 annonces, proportion : 3.39%\n",
      "\tCheckmyguest : 104 annonces, proportion : 3.17%\n",
      "\tPierre : 102 annonces, proportion : 3.11%\n"
     ]
    }
   ],
   "source": [
    "pipeline = [\n",
    "    # Grouper par hôte pour compter le nombre d'annonces\n",
    "    {\n",
    "        \"$group\": {\n",
    "            \"_id\": {\"host_id\": \"$host_id\", \"host_name\": \"$host_name\"},\n",
    "            \"nb_annonces\": {\"$sum\": 1}\n",
    "        }\n",
    "    },\n",
    "    # Filtrer les hôtes avec plus de 100 annonces\n",
    "    {\"$match\": {\"nb_annonces\": {\"$gt\": 100}}},\n",
    "    # Trier par nombre d'annonces décroissant\n",
    "    {\"$sort\": {\"nb_annonces\": -1}},\n",
    "    # Calculer la somme totale d'annonces pour ce sous-ensemble\n",
    "    {\n",
    "        \"$group\": {\n",
    "            \"_id\": None,\n",
    "            \"total_annonces\": {\"$sum\": \"$nb_annonces\"},\n",
    "            \"hotes\": {\"$push\": {\"host_id\": \"$_id.host_id\", \"host_name\": \"$_id.host_name\", \"nb_annonces\": \"$nb_annonces\"}}\n",
    "        }\n",
    "    },\n",
    "    # Déplier la liste pour calculer la proportion par hôte\n",
    "    {\"$unwind\": \"$hotes\"},\n",
    "    {\n",
    "        \"$addFields\": {\n",
    "            \"hotes.proportion\": {\"$divide\": [\"$hotes.nb_annonces\", \"$total_annonces\"]}\n",
    "        }\n",
    "    },\n",
    "    # Reformater la liste finale\n",
    "    {\n",
    "        \"$group\": {\n",
    "            \"_id\": None,\n",
    "            \"hotes\": {\"$push\": \"$hotes\"},\n",
    "            \"total_annonces\": {\"$first\": \"$total_annonces\"}\n",
    "        }\n",
    "    }\n",
    "]\n",
    "\n",
    "result = list(collection.aggregate(pipeline))\n",
    "\n",
    "# Affichage\n",
    "if result:\n",
    "    r = result[0]\n",
    "    print(f\"Total d'annonces pour hôtes >100 annonces : {r['total_annonces']}\\n\")\n",
    "    print(\"Liste des hôtes avec proportion respective :\")\n",
    "    for h in r['hotes']:\n",
    "        print(f\"\\t{h['host_name']} : {h['nb_annonces']} annonces, proportion : {h['proportion']:.2%}\")"
   ]
  },
  {
   "attachments": {},
   "cell_type": "markdown",
   "id": "09f2f940-a892-4e9b-9f31-d39bc5b22bdc",
   "metadata": {},
   "source": [
    "---\n",
    "Q9: Nombre de super hôtes différents et la proportion globale\n",
    "-\n",
    "---"
   ]
  },
  {
   "cell_type": "code",
   "execution_count": 37,
   "id": "7d9b0de5-d930-46a9-99c6-64e009ec2298",
   "metadata": {},
   "outputs": [
    {
     "name": "stdout",
     "output_type": "stream",
     "text": [
      "Nombre de super-hôtes : 7509\n",
      "Nombre total d'hôtes : 50772\n",
      "Proportion globale : 14.79%\n"
     ]
    }
   ],
   "source": [
    "pipeline = [\n",
    "    # Grouper par host_id pour obtenir un hôte unique\n",
    "    {\n",
    "        \"$group\": {\n",
    "            \"_id\": \"$host_id\",\n",
    "            \"host_is_superhost\": {\"$first\": \"$host_is_superhost\"}\n",
    "        }\n",
    "    },\n",
    "    # Grouper pour compter superhosts et total\n",
    "    {\n",
    "        \"$group\": {\n",
    "            \"_id\": None,\n",
    "            \"total_hosts\": {\"$sum\": 1},\n",
    "            \"superhosts\": {\n",
    "                \"$sum\": {\n",
    "                    \"$cond\": [{\"$eq\": [\"$host_is_superhost\", \"t\"]}, 1, 0]\n",
    "                }\n",
    "            }\n",
    "        }\n",
    "    },\n",
    "    # Ajouter la proportion\n",
    "    {\n",
    "        \"$addFields\": {\n",
    "            \"proportion\": {\"$divide\": [\"$superhosts\", \"$total_hosts\"]}\n",
    "        }\n",
    "    }\n",
    "]\n",
    "\n",
    "result = list(collection.aggregate(pipeline))\n",
    "\n",
    "if result:\n",
    "    r = result[0]\n",
    "    print(f\"Nombre de super-hôtes : {r['superhosts']}\")\n",
    "    print(f\"Nombre total d'hôtes : {r['total_hosts']}\")\n",
    "    print(f\"Proportion globale : {r['proportion']:.2%}\")"
   ]
  },
  {
   "cell_type": "markdown",
   "id": "7a1ab6ca-5cc5-4e9a-93ee-48d22a1bf805",
   "metadata": {},
   "source": [
    "---\n",
    "Q10: Taux de réservation moyen par mois par type de logement\n",
    "-\n",
    "---"
   ]
  },
  {
   "cell_type": "code",
   "execution_count": 40,
   "id": "af62183e-b806-445c-9f2c-2d821d09a602",
   "metadata": {},
   "outputs": [
    {
     "name": "stdout",
     "output_type": "stream",
     "text": [
      "shape: (4, 2)\n",
      "┌─────────────────┬───────────────────────┐\n",
      "│ room_type       ┆ avg_reviews_per_month │\n",
      "│ ---             ┆ ---                   │\n",
      "│ str             ┆ f64                   │\n",
      "╞═════════════════╪═══════════════════════╡\n",
      "│ Shared room     ┆ 2.201517              │\n",
      "│ Private room    ┆ 1.329301              │\n",
      "│ Hotel room      ┆ 1.152362              │\n",
      "│ Entire home/apt ┆ 1.039023              │\n",
      "└─────────────────┴───────────────────────┘\n"
     ]
    }
   ],
   "source": [
    "result = (\n",
    "    df_paris.group_by(\"room_type\")\n",
    "    .agg(pl.col(\"reviews_per_month\").mean().alias(\"avg_reviews_per_month\"))\n",
    "    .sort(\"avg_reviews_per_month\", descending=True)\n",
    ")\n",
    "print(result)"
   ]
  },
  {
   "attachments": {},
   "cell_type": "markdown",
   "id": "4cc89516-80da-4a7d-ad39-dc817d547ea3",
   "metadata": {},
   "source": [
    "---\n",
    "Q11: Taux de réservation moyen par mois par type de logement\n",
    "-\n",
    "---"
   ]
  },
  {
   "cell_type": "code",
   "execution_count": 43,
   "id": "7f5343c3-633f-442e-982e-20964104fd3e",
   "metadata": {},
   "outputs": [
    {
     "name": "stdout",
     "output_type": "stream",
     "text": [
      "shape: (55, 2)\n",
      "┌───────────────────────────────┬───────────────────────┐\n",
      "│ property_type                 ┆ avg_reviews_per_month │\n",
      "│ ---                           ┆ ---                   │\n",
      "│ str                           ┆ f64                   │\n",
      "╞═══════════════════════════════╪═══════════════════════╡\n",
      "│ Room in hostel                ┆ 5.883333              │\n",
      "│ Private room in boat          ┆ 5.34                  │\n",
      "│ Shared room in hostel         ┆ 4.607632              │\n",
      "│ Shared room in boutique hotel ┆ 3.6                   │\n",
      "│ Private room in vacation home ┆ 3.36                  │\n",
      "│ …                             ┆ …                     │\n",
      "│ Private room in villa         ┆ 0.45                  │\n",
      "│ Shared room in farm stay      ┆ 0.36                  │\n",
      "│ Entire villa                  ┆ 0.316                 │\n",
      "│ Cave                          ┆ 0.25                  │\n",
      "│ Earthen home                  ┆ 0.2                   │\n",
      "└───────────────────────────────┴───────────────────────┘\n"
     ]
    }
   ],
   "source": [
    "result = (\n",
    "    df_paris\n",
    "    .filter(pl.col(\"reviews_per_month\").is_not_null())\n",
    "    .group_by(\"property_type\")\n",
    "    .agg(pl.col(\"reviews_per_month\").mean().alias(\"avg_reviews_per_month\"))\n",
    "    .sort(\"avg_reviews_per_month\", descending=True)\n",
    ")\n",
    "print(result)"
   ]
  },
  {
   "attachments": {},
   "cell_type": "markdown",
   "id": "1153784f-e3ad-4377-9b80-e285476fe71d",
   "metadata": {},
   "source": [
    "---\n",
    "Q12: Médiane du nombre d’avis pour tous les logements\n",
    "-\n",
    "---"
   ]
  },
  {
   "cell_type": "code",
   "execution_count": 46,
   "id": "14d30d20-c1a9-4279-881a-98c3fd76178f",
   "metadata": {},
   "outputs": [
    {
     "name": "stdout",
     "output_type": "stream",
     "text": [
      "4.0\n"
     ]
    }
   ],
   "source": [
    "median_reviews = df_paris.select(pl.col(\"number_of_reviews\").median()).item()\n",
    "print(median_reviews)"
   ]
  },
  {
   "attachments": {},
   "cell_type": "markdown",
   "id": "8f72e93c-2ddb-4eaf-8322-5ad9da845158",
   "metadata": {},
   "source": [
    "---\n",
    "Q13: Médiane du nombre d’avis par catégorie d’hôte\n",
    "-\n",
    "---"
   ]
  },
  {
   "cell_type": "code",
   "execution_count": 53,
   "id": "33517673-4f9d-4796-aabd-2b266aca8c2d",
   "metadata": {},
   "outputs": [
    {
     "name": "stdout",
     "output_type": "stream",
     "text": [
      "shape: (3, 2)\n",
      "┌───────────────────┬────────────────┐\n",
      "│ host_is_superhost ┆ median_reviews │\n",
      "│ ---               ┆ ---            │\n",
      "│ str               ┆ f64            │\n",
      "╞═══════════════════╪════════════════╡\n",
      "│ t                 ┆ 27.0           │\n",
      "│ f                 ┆ 3.0            │\n",
      "│ null              ┆ 15.0           │\n",
      "└───────────────────┴────────────────┘\n"
     ]
    }
   ],
   "source": [
    "result = (\n",
    "    df_paris\n",
    "    .group_by(\"host_is_superhost\")\n",
    "    .agg(pl.col(\"number_of_reviews\").median().alias(\"median_reviews\"))\n",
    ")\n",
    "print(result)"
   ]
  },
  {
   "attachments": {},
   "cell_type": "markdown",
   "id": "444cbbea-7190-472b-b35f-f39d981a54db",
   "metadata": {},
   "source": [
    "---\n",
    "Q14: Densité de logements par quartier de Paris\n",
    "-\n",
    "---"
   ]
  },
  {
   "cell_type": "code",
   "execution_count": 63,
   "id": "f4822319-55b4-45ae-9404-97c508d457d9",
   "metadata": {},
   "outputs": [
    {
     "name": "stdout",
     "output_type": "stream",
     "text": [
      "[{'_id': 'Buttes-Montmartre', 'nombre_annonces': 7772}, {'_id': 'Popincourt', 'nombre_annonces': 6141}, {'_id': 'Vaugirard', 'nombre_annonces': 5030}, {'_id': 'Entrepôt', 'nombre_annonces': 4829}, {'_id': 'Batignolles-Monceau', 'nombre_annonces': 4584}, {'_id': 'Buttes-Chaumont', 'nombre_annonces': 4135}, {'_id': 'Ménilmontant', 'nombre_annonces': 4067}, {'_id': 'Passy', 'nombre_annonces': 3872}, {'_id': 'Opéra', 'nombre_annonces': 3108}, {'_id': 'Temple', 'nombre_annonces': 2726}, {'_id': 'Reuilly', 'nombre_annonces': 2709}, {'_id': 'Observatoire', 'nombre_annonces': 2367}, {'_id': 'Gobelins', 'nombre_annonces': 2174}, {'_id': 'Bourse', 'nombre_annonces': 2045}, {'_id': 'Hôtel-de-Ville', 'nombre_annonces': 1972}, {'_id': 'Panthéon', 'nombre_annonces': 1927}, {'_id': 'Élysée', 'nombre_annonces': 1796}, {'_id': 'Luxembourg', 'nombre_annonces': 1746}, {'_id': 'Palais-Bourbon', 'nombre_annonces': 1705}, {'_id': 'Louvre', 'nombre_annonces': 1326}]\n"
     ]
    }
   ],
   "source": [
    "pipeline = [\n",
    "    {\"$group\": {\"_id\": \"$neighbourhood_cleansed\", \"nombre_annonces\": {\"$sum\": 1}}},\n",
    "    {\"$sort\": {\"nombre_annonces\": -1}}  # tri décroissant\n",
    "]\n",
    "result = list(collection.aggregate(pipeline))\n",
    "print(result)"
   ]
  },
  {
   "cell_type": "markdown",
   "id": "db5aab0b-bf36-4b4f-a526-27eb3521b14d",
   "metadata": {},
   "source": [
    "---\n",
    "Q15: Quartiers avec le plus fort taux de réservation par mois\n",
    "-\n",
    "---"
   ]
  },
  {
   "cell_type": "code",
   "execution_count": 68,
   "id": "b7b5011b-0d9f-4e71-9f9a-328330e896df",
   "metadata": {},
   "outputs": [
    {
     "name": "stdout",
     "output_type": "stream",
     "text": [
      "shape: (20, 2)\n",
      "┌────────────────────────┬───────────────────────┐\n",
      "│ neighbourhood_cleansed ┆ avg_reviews_per_month │\n",
      "│ ---                    ┆ ---                   │\n",
      "│ str                    ┆ f64                   │\n",
      "╞════════════════════════╪═══════════════════════╡\n",
      "│ Bourse                 ┆ 1.565653              │\n",
      "│ Louvre                 ┆ 1.35715               │\n",
      "│ Élysée                 ┆ 1.284484              │\n",
      "│ Hôtel-de-Ville         ┆ 1.237135              │\n",
      "│ Palais-Bourbon         ┆ 1.210721              │\n",
      "│ …                      ┆ …                     │\n",
      "│ Popincourt             ┆ 0.9992                │\n",
      "│ Buttes-Montmartre      ┆ 0.974086              │\n",
      "│ Batignolles-Monceau    ┆ 0.973816              │\n",
      "│ Buttes-Chaumont        ┆ 0.833195              │\n",
      "│ Ménilmontant           ┆ 0.826698              │\n",
      "└────────────────────────┴───────────────────────┘\n"
     ]
    }
   ],
   "source": [
    "result = (\n",
    "    df_paris\n",
    "    .group_by(\"neighbourhood_cleansed\")\n",
    "    .agg(pl.col(\"reviews_per_month\").mean().alias(\"avg_reviews_per_month\"))\n",
    "    .sort(\"avg_reviews_per_month\", descending=True)\n",
    ")\n",
    "print(result)"
   ]
  },
  {
   "cell_type": "markdown",
   "id": "9b6514e8-6790-45d4-8fa2-33a0badacd0f",
   "metadata": {},
   "source": [
    "---\n",
    "**Nettoyage**\n",
    "\n",
    "---"
   ]
  },
  {
   "cell_type": "code",
   "execution_count": 130,
   "id": "377bbd2c-9a9a-43a7-8c55-65c197613bc7",
   "metadata": {},
   "outputs": [],
   "source": [
    "# Fermeture de la connexion DB\n",
    "client.close()"
   ]
  },
  {
   "cell_type": "code",
   "execution_count": null,
   "id": "f146e96d-45a7-4da0-ac1c-67eff88d76a4",
   "metadata": {},
   "outputs": [],
   "source": []
  }
 ],
 "metadata": {
  "kernelspec": {
   "display_name": "Python [conda env:base] *",
   "language": "python",
   "name": "conda-base-py"
  },
  "language_info": {
   "codemirror_mode": {
    "name": "ipython",
    "version": 3
   },
   "file_extension": ".py",
   "mimetype": "text/x-python",
   "name": "python",
   "nbconvert_exporter": "python",
   "pygments_lexer": "ipython3",
   "version": "3.12.7"
  }
 },
 "nbformat": 4,
 "nbformat_minor": 5
}
